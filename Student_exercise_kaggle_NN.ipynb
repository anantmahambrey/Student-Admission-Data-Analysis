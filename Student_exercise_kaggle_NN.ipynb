{
 "cells": [
  {
   "cell_type": "code",
   "execution_count": 24,
   "id": "2eaee612-3f73-4979-b8ca-c6a7bffc9450",
   "metadata": {},
   "outputs": [],
   "source": [
    "import numpy as np\n",
    "import tensorflow as tf"
   ]
  },
  {
   "cell_type": "code",
   "execution_count": 25,
   "id": "4414a963-c16a-4090-8345-cac388c45b0e",
   "metadata": {},
   "outputs": [
    {
     "data": {
      "text/plain": [
       "1132"
      ]
     },
     "execution_count": 25,
     "metadata": {},
     "output_type": "execute_result"
    }
   ],
   "source": [
    "npz=np.load('Student_data_train.npz')\n",
    "train_inputs=npz['inputs'].astype(np.float64)\n",
    "train_targets=npz['targets'].astype(np.int32)\n",
    "train_inputs.shape[0]"
   ]
  },
  {
   "cell_type": "code",
   "execution_count": 26,
   "id": "817df110-05bc-441c-b974-06636ff20927",
   "metadata": {},
   "outputs": [
    {
     "data": {
      "text/plain": [
       "141"
      ]
     },
     "execution_count": 26,
     "metadata": {},
     "output_type": "execute_result"
    }
   ],
   "source": [
    "npz=np.load('Student_data_validation.npz')\n",
    "val_inputs=npz['inputs'].astype(np.float64)\n",
    "val_targets=npz['targets'].astype(np.int32)\n",
    "val_inputs.shape[0]"
   ]
  },
  {
   "cell_type": "code",
   "execution_count": 27,
   "id": "8c2d9d88-a025-432e-bf88-a5a606742754",
   "metadata": {},
   "outputs": [
    {
     "data": {
      "text/plain": [
       "143"
      ]
     },
     "execution_count": 27,
     "metadata": {},
     "output_type": "execute_result"
    }
   ],
   "source": [
    "npz=np.load('Student_data_test.npz')\n",
    "test_inputs=npz['inputs'].astype(np.float64)\n",
    "test_targets=npz['targets'].astype(np.int32)\n",
    "test_inputs.shape[0]"
   ]
  },
  {
   "cell_type": "code",
   "execution_count": 34,
   "id": "7f86ed68-126b-4a8e-b498-6e8ea7d6c152",
   "metadata": {},
   "outputs": [
    {
     "name": "stdout",
     "output_type": "stream",
     "text": [
      "Train on 1132 samples, validate on 141 samples\n",
      "Epoch 1/100\n",
      "1132/1132 - 1s - loss: 0.6354 - accuracy: 0.6369 - val_loss: 0.7781 - val_accuracy: 0.4113\n",
      "Epoch 2/100\n",
      "1132/1132 - 0s - loss: 0.3854 - accuracy: 0.8746 - val_loss: 0.4231 - val_accuracy: 0.7872\n",
      "Epoch 3/100\n",
      "1132/1132 - 0s - loss: 0.1945 - accuracy: 0.9214 - val_loss: 0.2571 - val_accuracy: 0.8723\n",
      "Epoch 4/100\n",
      "1132/1132 - 0s - loss: 0.1526 - accuracy: 0.9329 - val_loss: 0.1328 - val_accuracy: 0.9291\n",
      "Epoch 5/100\n",
      "1132/1132 - 0s - loss: 0.1229 - accuracy: 0.9435 - val_loss: 0.0929 - val_accuracy: 0.9645\n",
      "Epoch 6/100\n",
      "1132/1132 - 0s - loss: 0.1172 - accuracy: 0.9496 - val_loss: 0.1072 - val_accuracy: 0.9645\n"
     ]
    },
    {
     "data": {
      "text/plain": [
       "<tensorflow.python.keras.callbacks.History at 0x28c93eb11c8>"
      ]
     },
     "execution_count": 34,
     "metadata": {},
     "output_type": "execute_result"
    }
   ],
   "source": [
    "input_size = 14\n",
    "output_size = 2\n",
    "hidden_layer_size = 100\n",
    "\n",
    "model = tf.keras.Sequential([\n",
    "    tf.keras.layers.Dense(hidden_layer_size, activation='relu'), \n",
    "    tf.keras.layers.Dense(hidden_layer_size, activation='relu'), \n",
    "    tf.keras.layers.Dense(hidden_layer_size, activation='relu'),\n",
    "    tf.keras.layers.Dense(hidden_layer_size, activation='relu'),\n",
    "    tf.keras.layers.Dense(hidden_layer_size, activation='relu'),\n",
    "    tf.keras.layers.Dense(output_size, activation='softmax') \n",
    "])\n",
    "\n",
    "model.compile(optimizer='adam', loss='sparse_categorical_crossentropy', metrics=['accuracy'])\n",
    "\n",
    "batch_size = 100\n",
    "\n",
    "max_epochs = 100\n",
    "\n",
    "early_stopping = tf.keras.callbacks.EarlyStopping()\n",
    "\n",
    "model.fit(train_inputs, \n",
    "          train_targets, \n",
    "          batch_size=batch_size, \n",
    "          epochs=max_epochs, \n",
    "          callbacks=[early_stopping], \n",
    "          validation_data=(val_inputs, val_targets),\n",
    "          verbose = 2 \n",
    "          )"
   ]
  },
  {
   "cell_type": "code",
   "execution_count": 35,
   "id": "248893ee-977c-4f60-860f-ca70d87cf2b8",
   "metadata": {},
   "outputs": [
    {
     "name": "stdout",
     "output_type": "stream",
     "text": [
      "143/143 [==============================] - 0s 103us/sample - loss: 0.1310 - accuracy: 0.9580\n"
     ]
    }
   ],
   "source": [
    "test_loss, test_accuracy = model.evaluate(test_inputs, test_targets)"
   ]
  },
  {
   "cell_type": "code",
   "execution_count": 36,
   "id": "7137b1dc-6078-41b1-b5b3-5499e36b468d",
   "metadata": {},
   "outputs": [
    {
     "name": "stdout",
     "output_type": "stream",
     "text": [
      "\n",
      "Test loss: 0.13. Test accuracy: 95.80%\n"
     ]
    }
   ],
   "source": [
    "print('\\nTest loss: {0:.2f}. Test accuracy: {1:.2f}%'.format(test_loss, test_accuracy*100.))"
   ]
  }
 ],
 "metadata": {
  "kernelspec": {
   "display_name": "Python (tf2)",
   "language": "python",
   "name": "tf2"
  },
  "language_info": {
   "codemirror_mode": {
    "name": "ipython",
    "version": 3
   },
   "file_extension": ".py",
   "mimetype": "text/x-python",
   "name": "python",
   "nbconvert_exporter": "python",
   "pygments_lexer": "ipython3",
   "version": "3.7.12"
  }
 },
 "nbformat": 4,
 "nbformat_minor": 5
}
